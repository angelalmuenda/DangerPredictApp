{
 "cells": [
  {
   "cell_type": "code",
   "execution_count": null,
   "metadata": {
    "scrolled": false
   },
   "outputs": [],
   "source": [
    "%matplotlib notebook\n",
    "import pandas as pd\n",
    "import matplotlib as mpl\n",
    "import numpy as np\n",
    "import matplotlib.pyplot as plt\n",
    "from sklearn.preprocessing import LabelEncoder\n",
    "from sklearn.preprocessing import MinMaxScaler\n",
    "from sklearn.model_selection import train_test_split\n",
    "\n",
    "crime_places = pd.read_csv('generated/crime_places_presence.csv', encoding='utf-8')\n",
    "crime_places.drop(['Unnamed: 0'], axis=1, inplace=True)\n",
    "crime_places.head()"
   ]
  },
  {
   "cell_type": "code",
   "execution_count": null,
   "metadata": {},
   "outputs": [],
   "source": [
    "enc = LabelEncoder()\n",
    "enc.fit(crime_places['crime'])\n",
    "crime_places['CRIME'] = enc.transform(crime_places['crime'])\n",
    "crime_places[['CRIME','crime']].drop_duplicates(subset=['crime'])"
   ]
  },
  {
   "cell_type": "code",
   "execution_count": null,
   "metadata": {},
   "outputs": [],
   "source": [
    "rename_crime = {'Vehicular Traffic Accident':'VTA',\n",
    "'MURDER':'Murder',\n",
    "'PHYSICAL INJURIES':'Physical Injuries',\n",
    "'Drug Related Incident (RA 9165)':'Drug Related',\n",
    "'THEFT':'Theft',\n",
    "'ANTI-CARNAPPING ACT (R.A. 6539) MC':'Carnapping',\n",
    "'RAPE (Art. 266-A RC & R.A.8353)':'Rape',\n",
    "'ROBBERY':'Robbery',\n",
    "'HOMICIDE':'Homicide'}\n",
    "for index,row in crime_places[crime_places.columns].iterrows():\n",
    "    crime_places.at[index,'crime'] = rename_crime[row['crime']]"
   ]
  },
  {
   "cell_type": "code",
   "execution_count": null,
   "metadata": {},
   "outputs": [],
   "source": [
    "crime_places.head()"
   ]
  },
  {
   "cell_type": "code",
   "execution_count": null,
   "metadata": {
    "scrolled": true
   },
   "outputs": [],
   "source": [
    "crime_places_copy = crime_places.copy()\n",
    "crime_places_copy.drop(crime_places_copy.columns[[0,1,2,3,4,6,7,8]],axis=1,inplace=True)\n",
    "# crime_places_copy.set_index('crime', inplace=True)\n",
    "cols = []\n",
    "for each in crime_places_copy.columns:\n",
    "    if each not in ['crime','time_bin','day']:\n",
    "        cols.append(each)\n",
    "crime_places_copy.head()"
   ]
  },
  {
   "cell_type": "code",
   "execution_count": null,
   "metadata": {},
   "outputs": [],
   "source": [
    "# print(crime_places_copy.columns)\n",
    "from sklearn.preprocessing import MinMaxScaler\n",
    "scaler = MinMaxScaler()\n",
    "crime_places_copy[cols] = scaler.fit_transform(crime_places_copy[cols])\n",
    "crime_places_copy.head()"
   ]
  },
  {
   "cell_type": "code",
   "execution_count": null,
   "metadata": {
    "scrolled": true
   },
   "outputs": [],
   "source": [
    "#normalization\n",
    "normal = crime_places_copy.copy()\n",
    "normal.drop(normal.columns[[-1]],axis=1,inplace=True)\n",
    "cols.remove('CRIME')\n",
    "normal.fillna(-1, inplace=True)\n",
    "for index, row in normal[cols].iterrows():\n",
    "    for col in normal[cols]:\n",
    "#         print(\"{} --- {}\".format(normal.loc[index,col], float(row[col]) <= float(0.2) and float(row[col]) > float(0.0)))\n",
    "        if float(row[col]) <= float(0.2) and float(row[col]) >= float(0.0):\n",
    "            normal.at[index,col] = 1\n",
    "        else:\n",
    "            normal.at[index,col] = 0\n",
    "normal.set_index('crime', inplace=True)\n",
    "normal.head()"
   ]
  },
  {
   "cell_type": "code",
   "execution_count": null,
   "metadata": {
    "scrolled": false
   },
   "outputs": [],
   "source": [
    "graph = crime_places_copy.copy()\n",
    "graph.drop(graph.columns[[0]],axis=1,inplace=True)\n",
    "graph.set_index('CRIME', inplace=True)\n",
    "graph.head()"
   ]
  },
  {
   "cell_type": "code",
   "execution_count": null,
   "metadata": {
    "scrolled": false
   },
   "outputs": [],
   "source": [
    "import seaborn as sns; sns.set()\n",
    "import matplotlib.pyplot as plt\n",
    "tips = sns.load_dataset(\"tips\")\n",
    "tips.head()\n",
    "# ax = sns.scatterplot(x=\"total_bill\", y=\"tip\", data=tips)"
   ]
  },
  {
   "cell_type": "code",
   "execution_count": null,
   "metadata": {},
   "outputs": [],
   "source": [
    "normal_c = crime_places.copy()\n",
    "# normal_c.drop(normal_c.columns[[2,3,4,6,7,8,-1]],axis=1,inplace=True)\n",
    "normal_c.set_index('crime', inplace=True)\n",
    "normal_c.head()"
   ]
  },
  {
   "cell_type": "code",
   "execution_count": null,
   "metadata": {},
   "outputs": [],
   "source": [
    "normal_c.transpose()"
   ]
  },
  {
   "cell_type": "code",
   "execution_count": null,
   "metadata": {
    "scrolled": true
   },
   "outputs": [],
   "source": [
    "fig_size = plt.rcParams[\"figure.figsize\"]\n",
    "fig_size[0] = 15\n",
    "fig_size[1] = 12\n",
    "print(\"Current size: {}\".format(fig_size))\n",
    "ax = sns.scatterplot(x=\"time_bin\", y=\"day\", hue=normal_c.index, data=normal_c)\n",
    "for item in ax.get_xticklabels():\n",
    "    item.set_rotation(90)\n",
    "plt.legend(frameon=True, bbox_to_anchor=(1,0.5), loc=\"center left\",prop={'size': 10})\n",
    "plt.subplots_adjust(right=.75)"
   ]
  },
  {
   "cell_type": "code",
   "execution_count": null,
   "metadata": {},
   "outputs": [],
   "source": []
  },
  {
   "cell_type": "code",
   "execution_count": null,
   "metadata": {},
   "outputs": [],
   "source": []
  }
 ],
 "metadata": {
  "kernelspec": {
   "display_name": "Python 3",
   "language": "python",
   "name": "python3"
  },
  "language_info": {
   "codemirror_mode": {
    "name": "ipython",
    "version": 3
   },
   "file_extension": ".py",
   "mimetype": "text/x-python",
   "name": "python",
   "nbconvert_exporter": "python",
   "pygments_lexer": "ipython3",
   "version": "3.7.1"
  }
 },
 "nbformat": 4,
 "nbformat_minor": 2
}
